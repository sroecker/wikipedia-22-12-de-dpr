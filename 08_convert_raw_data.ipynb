{
 "cells": [
  {
   "cell_type": "code",
   "execution_count": 1,
   "metadata": {},
   "outputs": [],
   "source": [
    "import pandas as pd\n",
    "import gzip\n",
    "import json\n",
    "import jsonlines\n",
    "from pprint import pprint\n",
    "from typing import List, Pattern, Optional\n",
    "import re\n",
    "import random\n",
    "from mltb2.text import clean_all_invisible_chars_and_whitespaces"
   ]
  },
  {
   "cell_type": "code",
   "execution_count": 2,
   "metadata": {},
   "outputs": [],
   "source": [
    "LINE_PREFIX: Pattern = re.compile(r\"^[1-6][\\.)][ \\t]\")"
   ]
  },
  {
   "cell_type": "code",
   "execution_count": 3,
   "metadata": {},
   "outputs": [],
   "source": [
    "all_clean_text_set = set()\n",
    "duplicate_clean_text_set = set()"
   ]
  },
  {
   "cell_type": "code",
   "execution_count": 4,
   "metadata": {},
   "outputs": [],
   "source": [
    "def extract_content(content: str) -> Optional[List[str]]:\n",
    "    global all_clean_text_set, duplicate_clean_text_set\n",
    "\n",
    "    # split content by line breaks\n",
    "    content = content.replace(\"\\n\\n\", \"\\n\")\n",
    "    lines = content.split(\"\\n\")\n",
    "    assert len(lines) >= 6\n",
    "    lines = lines[:6]\n",
    "    for idx, line in enumerate(lines):\n",
    "        if re.search(LINE_PREFIX, line) is None:\n",
    "            return None\n",
    "        else:\n",
    "            # clean the text\n",
    "            clean_text = re.sub(LINE_PREFIX, \"\", line)\n",
    "            clean_text = clean_all_invisible_chars_and_whitespaces(clean_text)\n",
    "            lines[idx] = clean_text\n",
    "\n",
    "            # collect duplicates - we clean them later\n",
    "            if clean_text in all_clean_text_set:\n",
    "                duplicate_clean_text_set.add(clean_text)\n",
    "            else:\n",
    "                all_clean_text_set.add(clean_text)\n",
    "\n",
    "    return lines"
   ]
  },
  {
   "cell_type": "code",
   "execution_count": 5,
   "metadata": {},
   "outputs": [],
   "source": [
    "def select_data(data: dict):\n",
    "    result = data.copy()\n",
    "\n",
    "    # check finish_reason in llm_response_question\n",
    "    llm_response_question = result[\"llm_response_question\"]\n",
    "    if llm_response_question[\"finish_reason\"] != \"stop\":\n",
    "        return None\n",
    "\n",
    "    # check finish_reason in llm_response_imperative\n",
    "    llm_response_imperative = result[\"llm_response_imperative\"]\n",
    "    if llm_response_imperative[\"finish_reason\"] != \"stop\":\n",
    "        return None\n",
    "\n",
    "    # handle llm_response_question\n",
    "    del result[\"llm_response_question\"]\n",
    "    lines = extract_content(llm_response_question[\"content\"])\n",
    "    if lines is not None:\n",
    "        result[\"questions\"] = lines\n",
    "\n",
    "    # handle llm_response_imperative\n",
    "    del result[\"llm_response_imperative\"]\n",
    "    lines = extract_content(llm_response_imperative[\"content\"])\n",
    "    if lines is not None:\n",
    "        result[\"imperatives\"] = lines\n",
    "\n",
    "    # check if either questions or imperatives is available\n",
    "    if \"questions\" not in result and \"imperatives\" not in result:\n",
    "        return None\n",
    "\n",
    "    del result[\"_id\"]\n",
    "    del result[\"_key\"]\n",
    "    del result[\"_rev\"]\n",
    "    del result[\"context_token_count\"]\n",
    "    del result[\"meta_data_imperative\"]\n",
    "    del result[\"meta_data_question\"]\n",
    "    return result"
   ]
  },
  {
   "cell_type": "code",
   "execution_count": 6,
   "metadata": {},
   "outputs": [],
   "source": [
    "extracted_data = []\n",
    "\n",
    "with gzip.open(\"./data/wikipedia-22-12-de-raw-results.jsonl.gz\", \"r\") as gzip_in:\n",
    "    jsonlines_reader = jsonlines.Reader(gzip_in)\n",
    "    for data in jsonlines_reader:\n",
    "        selected_data = select_data(data)\n",
    "        if selected_data is not None:\n",
    "            extracted_data.append(selected_data)"
   ]
  },
  {
   "cell_type": "code",
   "execution_count": 7,
   "metadata": {},
   "outputs": [
    {
     "data": {
      "text/plain": [
       "9663"
      ]
     },
     "execution_count": 7,
     "metadata": {},
     "output_type": "execute_result"
    }
   ],
   "source": [
    "len(duplicate_clean_text_set)"
   ]
  },
  {
   "cell_type": "code",
   "execution_count": 8,
   "metadata": {},
   "outputs": [
    {
     "data": {
      "text/plain": [
       "1589170"
      ]
     },
     "execution_count": 8,
     "metadata": {},
     "output_type": "execute_result"
    }
   ],
   "source": [
    "len(all_clean_text_set)"
   ]
  },
  {
   "cell_type": "code",
   "execution_count": 9,
   "metadata": {},
   "outputs": [
    {
     "name": "stdout",
     "output_type": "stream",
     "text": [
      "{'context': 'Georg Marius, auch Georg Mayer (und \"Georg Meyer\"), latinisiert '\n",
      "            'Georgius Marius (oder \"Mayerus\"), auch \"Georgius Marius '\n",
      "            'Herbipolensis\" (und \"… Wirtzeburgensis\") sowie \"Jorg Mayr\", sich '\n",
      "            'selbst bezeichnend auch Mayer von Würzburg – (* 1533 in Würzburg; '\n",
      "            '† 5. März 1606 in Heidelberg) war ein deutscher Mediziner. Er war '\n",
      "            'Hochschullehrer, Lehrstuhlinhaber und Dekan in Heidelberg und an '\n",
      "            'der protestantischen Universität Marburg sowie Leibarzt dreier, '\n",
      "            'in der Geschichte der Reformation bedeutsamer, Fürsten. Er '\n",
      "            'betrieb auch eine große Privatpraxis. Marius studierte in '\n",
      "            'Heidelberg wo er sich im Juni 1548 als Georgius Marius (bzw. '\n",
      "            'Mayer) immatrikuliert hatte und, geprüft unter anderem von Jakob '\n",
      "            'Curio und Stephan Feyerabend, \"Baccalaureus artium\" geworden war '\n",
      "            'und danach in Marburg Medizin.',\n",
      " 'context_uuid': 'd82a3c4b-f73c-41c6-8424-43ee9ff6c3eb',\n",
      " 'imperatives': ['Nennen Sie die verschiedenen Namen, unter denen Georg Marius '\n",
      "                 'bekannt war.',\n",
      "                 'Geben Sie das Geburts- und Todesjahr von Georg Marius an.',\n",
      "                 'Erklären Sie, welche Positionen Georg Marius innehatte.',\n",
      "                 'Beschreiben Sie die Rolle von Georg Marius in der Geschichte '\n",
      "                 'der Reformation.',\n",
      "                 'Zeigen Sie auf, wo Georg Marius studiert hat und welchen '\n",
      "                 'Abschluss er erworben hat.',\n",
      "                 'Nennen Sie die Personen, die Georg Marius geprüft haben.'],\n",
      " 'questions': ['Wo wurde Georg Marius geboren?',\n",
      "               'Welche Positionen hatte Georg Marius an der Universität '\n",
      "               'Heidelberg und der Universität Marburg inne?',\n",
      "               'Welche Studien hat Georg Marius in Heidelberg absolviert?',\n",
      "               'Wann hat sich Georg Marius in Heidelberg immatrikuliert?',\n",
      "               'Wer waren einige der Personen, die Georg Marius geprüft haben?',\n",
      "               \"Was war Georg Marius' Beruf?\"],\n",
      " 'title': 'Georg Marius',\n",
      " 'wiki_id': 8339522}\n"
     ]
    }
   ],
   "source": [
    "pprint(extracted_data[0])"
   ]
  },
  {
   "cell_type": "code",
   "execution_count": 10,
   "metadata": {},
   "outputs": [],
   "source": [
    "# clean duplicate texts\n",
    "for data in extracted_data:\n",
    "    if \"questions\" in data:\n",
    "        for question in data[\"questions\"].copy():\n",
    "            if question in duplicate_clean_text_set:\n",
    "                data[\"questions\"].remove(question)\n",
    "        if len(data[\"questions\"]) == 0:\n",
    "            del data[\"questions\"]\n",
    "\n",
    "    if \"imperatives\" in data:\n",
    "        for imperative in data[\"imperatives\"].copy():\n",
    "            if imperative in duplicate_clean_text_set:\n",
    "                data[\"imperatives\"].remove(imperative)\n",
    "        if len(data[\"imperatives\"]) == 0:\n",
    "            del data[\"imperatives\"]\n",
    "\n",
    "    assert \"questions\" in data or \"imperatives\" in data"
   ]
  },
  {
   "cell_type": "code",
   "execution_count": 11,
   "metadata": {},
   "outputs": [],
   "source": [
    "question_counts = []\n",
    "imperative_counts = []\n",
    "for data in extracted_data:\n",
    "    if \"questions\" in data:\n",
    "        question_counts.append(len(data[\"questions\"]))\n",
    "    if \"imperatives\" in data:\n",
    "        imperative_counts.append(len(data[\"imperatives\"]))"
   ]
  },
  {
   "cell_type": "code",
   "execution_count": 12,
   "metadata": {},
   "outputs": [
    {
     "name": "stdout",
     "output_type": "stream",
     "text": [
      "{'context': 'Georg Marius, auch Georg Mayer (und \"Georg Meyer\"), latinisiert '\n",
      "            'Georgius Marius (oder \"Mayerus\"), auch \"Georgius Marius '\n",
      "            'Herbipolensis\" (und \"… Wirtzeburgensis\") sowie \"Jorg Mayr\", sich '\n",
      "            'selbst bezeichnend auch Mayer von Würzburg – (* 1533 in Würzburg; '\n",
      "            '† 5. März 1606 in Heidelberg) war ein deutscher Mediziner. Er war '\n",
      "            'Hochschullehrer, Lehrstuhlinhaber und Dekan in Heidelberg und an '\n",
      "            'der protestantischen Universität Marburg sowie Leibarzt dreier, '\n",
      "            'in der Geschichte der Reformation bedeutsamer, Fürsten. Er '\n",
      "            'betrieb auch eine große Privatpraxis. Marius studierte in '\n",
      "            'Heidelberg wo er sich im Juni 1548 als Georgius Marius (bzw. '\n",
      "            'Mayer) immatrikuliert hatte und, geprüft unter anderem von Jakob '\n",
      "            'Curio und Stephan Feyerabend, \"Baccalaureus artium\" geworden war '\n",
      "            'und danach in Marburg Medizin.',\n",
      " 'context_uuid': 'd82a3c4b-f73c-41c6-8424-43ee9ff6c3eb',\n",
      " 'imperatives': ['Nennen Sie die verschiedenen Namen, unter denen Georg Marius '\n",
      "                 'bekannt war.',\n",
      "                 'Geben Sie das Geburts- und Todesjahr von Georg Marius an.',\n",
      "                 'Erklären Sie, welche Positionen Georg Marius innehatte.',\n",
      "                 'Beschreiben Sie die Rolle von Georg Marius in der Geschichte '\n",
      "                 'der Reformation.',\n",
      "                 'Zeigen Sie auf, wo Georg Marius studiert hat und welchen '\n",
      "                 'Abschluss er erworben hat.',\n",
      "                 'Nennen Sie die Personen, die Georg Marius geprüft haben.'],\n",
      " 'questions': ['Wo wurde Georg Marius geboren?',\n",
      "               'Welche Positionen hatte Georg Marius an der Universität '\n",
      "               'Heidelberg und der Universität Marburg inne?',\n",
      "               'Welche Studien hat Georg Marius in Heidelberg absolviert?',\n",
      "               'Wann hat sich Georg Marius in Heidelberg immatrikuliert?',\n",
      "               'Wer waren einige der Personen, die Georg Marius geprüft haben?',\n",
      "               \"Was war Georg Marius' Beruf?\"],\n",
      " 'title': 'Georg Marius',\n",
      " 'wiki_id': 8339522}\n"
     ]
    }
   ],
   "source": [
    "pprint(extracted_data[0])"
   ]
  },
  {
   "cell_type": "code",
   "execution_count": 13,
   "metadata": {},
   "outputs": [
    {
     "data": {
      "image/png": "[encoded data removed]",
      "text/plain": [
       "<Figure size 640x480 with 1 Axes>"
      ]
     },
     "metadata": {},
     "output_type": "display_data"
    }
   ],
   "source": [
    "_ = pd.Series(question_counts).hist(bins=100)"
   ]
  },
  {
   "cell_type": "code",
   "execution_count": 14,
   "metadata": {},
   "outputs": [
    {
     "data": {
      "image/png": "[encoded data removed]",
      "text/plain": [
       "<Figure size 640x480 with 1 Axes>"
      ]
     },
     "metadata": {},
     "output_type": "display_data"
    }
   ],
   "source": [
    "_ = pd.Series(imperative_counts).hist(bins=100)"
   ]
  },
  {
   "cell_type": "code",
   "execution_count": 15,
   "metadata": {},
   "outputs": [
    {
     "data": {
      "text/plain": [
       "134591"
      ]
     },
     "execution_count": 15,
     "metadata": {},
     "output_type": "execute_result"
    }
   ],
   "source": [
    "len(extracted_data)"
   ]
  },
  {
   "cell_type": "code",
   "execution_count": 16,
   "metadata": {},
   "outputs": [
    {
     "data": {
      "text/plain": [
       "786353"
      ]
     },
     "execution_count": 16,
     "metadata": {},
     "output_type": "execute_result"
    }
   ],
   "source": [
    "sum(question_counts)"
   ]
  },
  {
   "cell_type": "code",
   "execution_count": 17,
   "metadata": {},
   "outputs": [
    {
     "data": {
      "text/plain": [
       "793143"
      ]
     },
     "execution_count": 17,
     "metadata": {},
     "output_type": "execute_result"
    }
   ],
   "source": [
    "sum(imperative_counts)"
   ]
  },
  {
   "cell_type": "code",
   "execution_count": 18,
   "metadata": {},
   "outputs": [],
   "source": [
    "# split to train and test data\n",
    "random.shuffle(extracted_data)\n",
    "\n",
    "test_data = extracted_data[:5000]\n",
    "train_data = extracted_data[5000:]"
   ]
  },
  {
   "cell_type": "code",
   "execution_count": 19,
   "metadata": {},
   "outputs": [],
   "source": [
    "# save train data\n",
    "with gzip.GzipFile(\"./data/wikipedia-22-12-de-train-data.json.gz\", \"w\") as f:\n",
    "    f.write(json.dumps(train_data, indent=1).encode(\"utf-8\"))"
   ]
  },
  {
   "cell_type": "code",
   "execution_count": 20,
   "metadata": {},
   "outputs": [],
   "source": [
    "# save test data\n",
    "with gzip.GzipFile(\"./data/wikipedia-22-12-de-test-data.json.gz\", \"w\") as f:\n",
    "    f.write(json.dumps(test_data, indent=1).encode(\"utf-8\"))"
   ]
  }
 ],
 "metadata": {
  "kernelspec": {
   "display_name": "Python 3",
   "language": "python",
   "name": "python3"
  },
  "language_info": {
   "codemirror_mode": {
    "name": "ipython",
    "version": 3
   },
   "file_extension": ".py",
   "mimetype": "text/x-python",
   "name": "python",
   "nbconvert_exporter": "python",
   "pygments_lexer": "ipython3",
   "version": "3.10.12"
  }
 },
 "nbformat": 4,
 "nbformat_minor": 2
}
